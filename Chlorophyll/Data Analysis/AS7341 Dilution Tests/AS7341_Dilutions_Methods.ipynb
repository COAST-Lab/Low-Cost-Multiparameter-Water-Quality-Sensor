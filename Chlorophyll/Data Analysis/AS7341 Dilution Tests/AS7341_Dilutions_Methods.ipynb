{
 "cells": [
  {
   "cell_type": "markdown",
   "metadata": {},
   "source": [
    "# Description\n",
    "This is the analysis of the chlorophyll fluorometer by taking measurements \n",
    "of chlorophyll standards via rhodamine dye. This analysis is to test the fluorometer's measurement sensitivity using serial dilutions of rhodamine dye.\n",
    "\n",
    "# Fluorometer Testing\n",
    "\n",
    "## Fluorometer Design    \n",
    "This fluorometer is a benchtop model with housing which positions the LED and \n",
    "the AS7341 at a 90 degree angle as well as will be an opaque design as to \n",
    "eliminate any ambient light from impacting the measurements. The top of the benchtop design contains a hole \n",
    "which fits a cuvette. A cuvette is placed into the fluorometer with the water\n",
    "sample to begin testing."
   ]
  },
  {
   "cell_type": "markdown",
   "metadata": {},
   "source": [
    "# Testing Procedure\n",
    "\n",
    "## Step 1\n",
    "A YSI instrument was calibrated to be used to verify the chlorophyll water sample which would be prepared. Calibration information: https://www.ysi.com/file%20library/documents/manuals/exo-user-manual-web.pdf\n",
    "\n",
    "## Step 2\n",
    "A water sample was prepared with a chlorophyll concentration of 63.5 ug/L and an RFU of 15.8 RFU. This water sample was prepared with rhodamine dye and DI water\n",
    "\n",
    "## Chlorophyll Sample Preparation\n",
    "### Step 1\n",
    "5mL of Rhodamine dye was pipetted into a 1000mL volumetric flask or beaker. Fill the flask or beaker up to 1000mL mark with DI water\n",
    "\n",
    "### Step 2\n",
    "Pipette 5mL of the prepared solution in step 1 into a separate 1000mL volumetric flask or beaker. Fill this flask or beaker up to 1000mL mark with DI water. This will be your chlorophyll water sample\n",
    "\n",
    "### Step 3\n",
    "Verify the concentration of the prepared chlorophyll water sample with the YSI\n",
    "\n",
    "## Water Dilutions  \n",
    "Create diluted water samples. From the 1000mL stock of 63.5 ug/L chlorophyll water sample prepare water samples diluted to: 50 ug/L, 40 ug/L, 30 ug/L, 20 ug/L, 10ug/L, 8 ug/L, 6 ug/L, 4 ug/L, 2 ug/L, 0.75 ug/L, 0.5 ug/L, 0.25ug/L and 0ug/L. \n",
    "\n",
    "## Step 3\n",
    "Once the diluted water samples are prepared begin testing procedure.\n",
    "\n",
    "## Step 4\n",
    "To begin tests, insert a cuvette filled with DI water into the fluorometer, this will act as your \"blank\". Cover the fluorometer with the box and run for 1 minute. \n",
    "\n",
    "## Step 5 \n",
    "Stop readings and take the cuvette filled with DI water out of the fluorometer. Insert a cuvette filled with the 0.25 ug/L solution. Cover the fluorometer with the box and run for 1 minute.\n",
    "\n",
    "## Step 6\n",
    "Repeat the 1 minute tests for each diluted water sample. \n",
    "\n",
    "## Step 7\n",
    "Stop testing and take the SD card out of the fluorometer and plug it into the computer to begin analysis of the data collected.\n",
    "\n",
    "## Step 8\n",
    "This test will be performed first with an LED intensity of 255 and a specififed gain based on the test. \n"
   ]
  }
 ],
 "metadata": {
  "language_info": {
   "name": "python"
  }
 },
 "nbformat": 4,
 "nbformat_minor": 2
}
